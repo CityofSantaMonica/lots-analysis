{
 "metadata": {
  "name": "",
  "signature": "sha256:26208ac01018fee7fd6be1ad10a2fc219978fc6fd25ab340890f12d4cc172787"
 },
 "nbformat": 3,
 "nbformat_minor": 0,
 "worksheets": [
  {
   "cells": [
    {
     "cell_type": "markdown",
     "metadata": {},
     "source": [
      "# A Naive Approach\n",
      "\n",
      "As an initial attemp to gain some kind of insight from the data, let's plot the mean `availability` for each of the lots.\n",
      "\n",
      "We call this approach *naive* because we just take the mean across all records, without considering e.g. time of day. We might expect `availability` to be much higher in the middle of the night, when the lot is closed, which could potentially skew the results. \n",
      "\n",
      "But it's a starting point.\n",
      "\n",
      "## Initialze from `main.ipynb`"
     ]
    },
    {
     "cell_type": "code",
     "collapsed": false,
     "input": [
      "%cd /home/vagrant/notebooks/lots-analysis\n",
      "%run main.ipynb"
     ],
     "language": "python",
     "metadata": {},
     "outputs": []
    },
    {
     "cell_type": "markdown",
     "metadata": {},
     "source": [
      "## Visualize\n",
      "\n",
      "First we create a Series grouped by `lot_name`, with the mean `availability` score,\n",
      "sorted descending."
     ]
    },
    {
     "cell_type": "code",
     "collapsed": false,
     "input": [
      "naive = df.groupby([\"lot_name\"])[\"availability\"].mean().sort(axis=1,inplace=False)"
     ],
     "language": "python",
     "metadata": {},
     "outputs": [],
     "prompt_number": 5
    },
    {
     "cell_type": "markdown",
     "metadata": {},
     "source": [
      "and plot it"
     ]
    },
    {
     "cell_type": "code",
     "collapsed": false,
     "input": [
      "naive.plot(kind=\"barh\",title=\"Naive Mean Availability: {0}\".format(data_year))"
     ],
     "language": "python",
     "metadata": {},
     "outputs": [
      {
       "metadata": {},
       "output_type": "pyout",
       "prompt_number": 6,
       "text": [
        "<matplotlib.axes.AxesSubplot at 0x7f811017f790>"
       ]
      },
      {
       "metadata": {},
       "output_type": "display_data",
       "png": "[encoded data removed]",
       "text": [
        "<matplotlib.figure.Figure at 0x7f81101d0e50>"
       ]
      }
     ],
     "prompt_number": 6
    },
    {
     "cell_type": "code",
     "collapsed": false,
     "input": [],
     "language": "python",
     "metadata": {},
     "outputs": []
    }
   ],
   "metadata": {}
  }
 ]
}