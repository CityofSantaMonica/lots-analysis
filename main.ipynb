{
 "cells": [
  {
   "cell_type": "code",
   "execution_count": null,
   "metadata": {
    "collapsed": true
   },
   "outputs": [],
   "source": [
    "import pandas as pd\n",
    "import urllib\n",
    "\n",
    "url = \"https://data.smgov.net/api/views/ng8m-khuz/rows.csv?accessType=DOWNLOAD\"\n",
    "historical = \"./data.csv\"\n",
    "static = \"./static.csv\""
   ]
  },
  {
   "cell_type": "code",
   "execution_count": null,
   "metadata": {
    "collapsed": false
   },
   "outputs": [],
   "source": [
    "# refresh the local file of historical data\n",
    "urllib.urlretrieve(url, historical)"
   ]
  },
  {
   "cell_type": "code",
   "execution_count": null,
   "metadata": {
    "collapsed": true
   },
   "outputs": [],
   "source": [
    "# read files into DataFrames\n",
    "hdf = pd.read_csv(historical)\n",
    "sdf = pd.read_csv(static)"
   ]
  },
  {
   "cell_type": "code",
   "execution_count": null,
   "metadata": {
    "collapsed": true
   },
   "outputs": [],
   "source": [
    "# clean up addresses in historical data to match those in static data\n",
    "hdf.Address = hdf.Address.replace(\n",
    "    [r\", Santa Monica\", r\"\\.\", r\"\\bSt\\b\", r\"\\sat 4th Street\"],\n",
    "    [               \"\",    \"\",  \"Street\",                 \"\"],\n",
    "    regex = True\n",
    ")"
   ]
  },
  {
   "cell_type": "code",
   "execution_count": null,
   "metadata": {
    "collapsed": false
   },
   "outputs": [],
   "source": [
    "# merge the DataFrames on the Address columns\n",
    "# this is an 'inner join' => any Addresses missing in the static data\n",
    "# will have their corresponding historical records removed\n",
    "# then select out only the columns we are interested in\n",
    "df = hdf.merge(sdf, on = \"Address\")[[\n",
    "    \"Date/Time\",\n",
    "    \"Address\",\n",
    "    \"Zip\",\n",
    "    \"Latitude\",\n",
    "    \"Longitude\",\n",
    "    \"Lot\",    \n",
    "    \"Available\",\n",
    "    \"Total Spaces\"\n",
    "]]"
   ]
  },
  {
   "cell_type": "code",
   "execution_count": null,
   "metadata": {
    "collapsed": true
   },
   "outputs": [],
   "source": [
    "# renaming columns\n",
    "df.rename(\n",
    "    columns = { \"Date/Time\": \"DateTime\", \"Total Spaces\": \"Total\" },\n",
    "    inplace = True\n",
    ")"
   ]
  },
  {
   "cell_type": "code",
   "execution_count": null,
   "metadata": {
    "collapsed": false
   },
   "outputs": [],
   "source": [
    "# convert strings to datetime64[ns, America/Los_Angeles] objects\n",
    "df.DateTime = pd.to_datetime(df.DateTime, format = \"%m/%d/%Y %I:%M:%S %p\")\n",
    "df.DateTime = df.DateTime.dt.tz_localize(\"America/Los_Angeles\")"
   ]
  },
  {
   "cell_type": "code",
   "execution_count": null,
   "metadata": {
    "collapsed": false
   },
   "outputs": [],
   "source": [
    "# fix instances where there are more available than total spaces\n",
    "mask = df.Available > df.Total\n",
    "df.loc[mask, \"Available\"] = df.loc[mask, \"Total\"]"
   ]
  },
  {
   "cell_type": "code",
   "execution_count": null,
   "metadata": {
    "collapsed": false
   },
   "outputs": [],
   "source": [
    "# calc in an availability score\n",
    "df[\"Availability\"] = df.Available / df.Total"
   ]
  },
  {
   "cell_type": "code",
   "execution_count": null,
   "metadata": {
    "collapsed": false
   },
   "outputs": [],
   "source": []
  },
  {
   "cell_type": "code",
   "execution_count": null,
   "metadata": {
    "collapsed": true
   },
   "outputs": [],
   "source": []
  }
 ],
 "metadata": {
  "kernelspec": {
   "display_name": "Python 2",
   "language": "python",
   "name": "python2"
  },
  "language_info": {
   "codemirror_mode": {
    "name": "ipython",
    "version": 2
   },
   "file_extension": ".py",
   "mimetype": "text/x-python",
   "name": "python",
   "nbconvert_exporter": "python",
   "pygments_lexer": "ipython2",
   "version": "2.7.10"
  }
 },
 "nbformat": 4,
 "nbformat_minor": 0
}
