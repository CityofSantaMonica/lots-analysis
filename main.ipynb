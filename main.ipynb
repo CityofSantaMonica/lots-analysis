{
 "metadata": {
  "name": "",
  "signature": "sha256:0a074e8e5bbb19c3e019bb12ff20eed7c41ae7f35a4666f1b198e6d89e6df3bf"
 },
 "nbformat": 3,
 "nbformat_minor": 0,
 "worksheets": [
  {
   "cells": [
    {
     "cell_type": "markdown",
     "metadata": {},
     "source": [
      "# Lots Analysis\n",
      "\n",
      "A project to analyze parking lot data in Santa Monica. \n",
      "\n",
      "The primary data source is the [City of Santa Monica's Open Data Portal](https://data.smgov.net),\n",
      "and specifically the [Parking Lot Counts](https://data.smgov.net/Transportation/Parking-Lot-Counts/ng8m-khuz) dataset.\n",
      "\n",
      "This dataset is fed a snapshot of the [current state of the parking lots](https://parking.api.smgov.net/lots) every 5 minutes, 24 hours a day.\n",
      "\n",
      "## Data acquisition and munging"
     ]
    },
    {
     "cell_type": "code",
     "collapsed": false,
     "input": [
      "# initial setup\n",
      "from datetime import date\n",
      "import pandas, urllib\n",
      "\n",
      "this_year = date.today().year\n",
      "\n",
      "params = {\n",
      "    \"$where\": \"date_time between '{0}-01-01T00:00' and '{0}-12-31T23:59'\".format(this_year - 1),\n",
      "    \"$limit\": 100000\n",
      "}\n",
      "\n",
      "base_url = \"https://data.smgov.net/resource/tce2-7ir6.json\"\n",
      "query = \"?\" + urllib.urlencode(params)"
     ],
     "language": "python",
     "metadata": {},
     "outputs": [],
     "prompt_number": 8
    },
    {
     "cell_type": "code",
     "collapsed": false,
     "input": [
      "# read Socrata data into a dataframe\n",
      "hdf = pandas.read_json(base_url + query)\n",
      "\n",
      "# read static data into another dataframe\n",
      "sdf = pandas.read_csv(\"https://raw.githubusercontent.com/CityofSantaMonica/lots-analysis/master/static.csv\")\n",
      "\n",
      "# clean up addresses in historical data to match those in static data\n",
      "hdf.street_address = hdf.street_address.replace(\n",
      "    [r\", Santa Monica\", r\"\\.\", r\"\\bSt\\b\", r\"\\sat 4th Street\"],\n",
      "    [               \"\",    \"\",  \"Street\",                 \"\"],\n",
      "    regex = True\n",
      ")"
     ],
     "language": "python",
     "metadata": {},
     "outputs": [],
     "prompt_number": 9
    },
    {
     "cell_type": "code",
     "collapsed": false,
     "input": [
      "# merge the DataFrames on the address columns\n",
      "# this is an 'inner join' => any addresses missing in the static data\n",
      "# will have their corresponding historical records removed\n",
      "# then select out only the columns we are interested in\n",
      "df = hdf.merge(sdf, left_on = \"street_address\", right_on = \"Address\")[[\n",
      "    \"date_time\",\n",
      "    \"street_address\",\n",
      "    \"zip_code\",\n",
      "    \"latitude\",\n",
      "    \"longitude\",\n",
      "    \"lot_name\",    \n",
      "    \"available_spaces\",\n",
      "    \"Total Spaces\"\n",
      "]]\n",
      "\n",
      "# renaming columns\n",
      "df.rename(\n",
      "    columns = { \"Total Spaces\": \"total_spaces\" },\n",
      "    inplace = True\n",
      ")\n",
      "\n",
      "# create columns for date-derived features\n",
      "df[\"hour\"] = df.date_time.apply(lambda x: x.hour + (x.minute / 60.0))\n",
      "\n",
      "for feature in [\"day\", \"week\", \"month\", \"quarter\"]:\n",
      "    df[feature] = df.date_time.apply(lambda x: getattr(x, feature))\n",
      "\n",
      "# fix instances where there are more available than total spaces\n",
      "mask = df.available_spaces > df.total_spaces\n",
      "df.loc[mask, \"available_spaces\"] = df.loc[mask, \"total_spaces\"]\n",
      "   \n",
      "# calc in an availability score\n",
      "df[\"availability\"] = df.available_spaces / df.total_spaces"
     ],
     "language": "python",
     "metadata": {},
     "outputs": [],
     "prompt_number": 10
    },
    {
     "cell_type": "markdown",
     "metadata": {},
     "source": [
      "## Analysis\n",
      "\n",
      "Now that we have a nice set of historical data, joined with the static lot information, we can begin to do some analysis.\n",
      "\n",
      "### A Naive Approach\n",
      "\n",
      "As an initial attemp to gain *some* kind of insight from the data, let's plot the mean `availability` for each of the lots.\n",
      "\n",
      "We call this approach *naive* because we just take the mean across all records, without considering e.g. time of day (we expect `availability` might be much higher in the middle of the night, when the lot is closed). But its a starting point."
     ]
    },
    {
     "cell_type": "code",
     "collapsed": false,
     "input": [
      "# first create a series grouped by lot, with the mean availability score\n",
      "naive = df.groupby([\"lot_name\"])[\"availability\"].mean().sort(axis=1,inplace=False)\n",
      "naive.plot(kind=\"barh\",title=\"Naive Mean Availability\")"
     ],
     "language": "python",
     "metadata": {},
     "outputs": [
      {
       "metadata": {},
       "output_type": "pyout",
       "prompt_number": 60,
       "text": [
        "<matplotlib.axes.AxesSubplot at 0x7fc479d10110>"
       ]
      },
      {
       "metadata": {},
       "output_type": "display_data",
       "png": "[encoded data removed]",
       "text": [
        "<matplotlib.figure.Figure at 0x7fc479c9bc10>"
       ]
      }
     ],
     "prompt_number": 60
    },
    {
     "cell_type": "code",
     "collapsed": false,
     "input": [],
     "language": "python",
     "metadata": {},
     "outputs": []
    }
   ],
   "metadata": {}
  }
 ]
}